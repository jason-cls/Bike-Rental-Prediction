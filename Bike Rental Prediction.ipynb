{
 "cells": [
  {
   "cell_type": "markdown",
   "metadata": {
    "collapsed": true
   },
   "source": [
    "# Bike Rental Prediction\n",
    "The project will involve the prediction of the total number of bikes people rent in a certain hour. The dataset used in this project is taken directly from the [UCI ML repository](http://archive.ics.uci.edu/ml/datasets/Bike+Sharing+Dataset). An hourly count of bike rentals is recorded for the Capital bikeshare system from 2011 to 2012 with corresponding calendar and weather data.\n",
    "\n",
    "## Data Exploration"
   ]
  },
  {
   "cell_type": "code",
   "execution_count": 2,
   "metadata": {},
   "outputs": [],
   "source": [
    "import pandas as pd\n",
    "import numpy as np\n",
    "import matplotlib.pyplot as plt\n",
    "%matplotlib inline"
   ]
  },
  {
   "cell_type": "code",
   "execution_count": 3,
   "metadata": {},
   "outputs": [
    {
     "data": {
      "text/html": [
       "<div>\n",
       "<style scoped>\n",
       "    .dataframe tbody tr th:only-of-type {\n",
       "        vertical-align: middle;\n",
       "    }\n",
       "\n",
       "    .dataframe tbody tr th {\n",
       "        vertical-align: top;\n",
       "    }\n",
       "\n",
       "    .dataframe thead th {\n",
       "        text-align: right;\n",
       "    }\n",
       "</style>\n",
       "<table border=\"1\" class=\"dataframe\">\n",
       "  <thead>\n",
       "    <tr style=\"text-align: right;\">\n",
       "      <th></th>\n",
       "      <th>instant</th>\n",
       "      <th>dteday</th>\n",
       "      <th>season</th>\n",
       "      <th>yr</th>\n",
       "      <th>mnth</th>\n",
       "      <th>hr</th>\n",
       "      <th>holiday</th>\n",
       "      <th>weekday</th>\n",
       "      <th>workingday</th>\n",
       "      <th>weathersit</th>\n",
       "      <th>temp</th>\n",
       "      <th>atemp</th>\n",
       "      <th>hum</th>\n",
       "      <th>windspeed</th>\n",
       "      <th>casual</th>\n",
       "      <th>registered</th>\n",
       "      <th>cnt</th>\n",
       "    </tr>\n",
       "  </thead>\n",
       "  <tbody>\n",
       "    <tr>\n",
       "      <th>0</th>\n",
       "      <td>1</td>\n",
       "      <td>2011-01-01</td>\n",
       "      <td>1</td>\n",
       "      <td>0</td>\n",
       "      <td>1</td>\n",
       "      <td>0</td>\n",
       "      <td>0</td>\n",
       "      <td>6</td>\n",
       "      <td>0</td>\n",
       "      <td>1</td>\n",
       "      <td>0.24</td>\n",
       "      <td>0.2879</td>\n",
       "      <td>0.81</td>\n",
       "      <td>0.0</td>\n",
       "      <td>3</td>\n",
       "      <td>13</td>\n",
       "      <td>16</td>\n",
       "    </tr>\n",
       "    <tr>\n",
       "      <th>1</th>\n",
       "      <td>2</td>\n",
       "      <td>2011-01-01</td>\n",
       "      <td>1</td>\n",
       "      <td>0</td>\n",
       "      <td>1</td>\n",
       "      <td>1</td>\n",
       "      <td>0</td>\n",
       "      <td>6</td>\n",
       "      <td>0</td>\n",
       "      <td>1</td>\n",
       "      <td>0.22</td>\n",
       "      <td>0.2727</td>\n",
       "      <td>0.80</td>\n",
       "      <td>0.0</td>\n",
       "      <td>8</td>\n",
       "      <td>32</td>\n",
       "      <td>40</td>\n",
       "    </tr>\n",
       "    <tr>\n",
       "      <th>2</th>\n",
       "      <td>3</td>\n",
       "      <td>2011-01-01</td>\n",
       "      <td>1</td>\n",
       "      <td>0</td>\n",
       "      <td>1</td>\n",
       "      <td>2</td>\n",
       "      <td>0</td>\n",
       "      <td>6</td>\n",
       "      <td>0</td>\n",
       "      <td>1</td>\n",
       "      <td>0.22</td>\n",
       "      <td>0.2727</td>\n",
       "      <td>0.80</td>\n",
       "      <td>0.0</td>\n",
       "      <td>5</td>\n",
       "      <td>27</td>\n",
       "      <td>32</td>\n",
       "    </tr>\n",
       "    <tr>\n",
       "      <th>3</th>\n",
       "      <td>4</td>\n",
       "      <td>2011-01-01</td>\n",
       "      <td>1</td>\n",
       "      <td>0</td>\n",
       "      <td>1</td>\n",
       "      <td>3</td>\n",
       "      <td>0</td>\n",
       "      <td>6</td>\n",
       "      <td>0</td>\n",
       "      <td>1</td>\n",
       "      <td>0.24</td>\n",
       "      <td>0.2879</td>\n",
       "      <td>0.75</td>\n",
       "      <td>0.0</td>\n",
       "      <td>3</td>\n",
       "      <td>10</td>\n",
       "      <td>13</td>\n",
       "    </tr>\n",
       "    <tr>\n",
       "      <th>4</th>\n",
       "      <td>5</td>\n",
       "      <td>2011-01-01</td>\n",
       "      <td>1</td>\n",
       "      <td>0</td>\n",
       "      <td>1</td>\n",
       "      <td>4</td>\n",
       "      <td>0</td>\n",
       "      <td>6</td>\n",
       "      <td>0</td>\n",
       "      <td>1</td>\n",
       "      <td>0.24</td>\n",
       "      <td>0.2879</td>\n",
       "      <td>0.75</td>\n",
       "      <td>0.0</td>\n",
       "      <td>0</td>\n",
       "      <td>1</td>\n",
       "      <td>1</td>\n",
       "    </tr>\n",
       "  </tbody>\n",
       "</table>\n",
       "</div>"
      ],
      "text/plain": [
       "   instant      dteday  season  yr  mnth  hr  holiday  weekday  workingday  \\\n",
       "0        1  2011-01-01       1   0     1   0        0        6           0   \n",
       "1        2  2011-01-01       1   0     1   1        0        6           0   \n",
       "2        3  2011-01-01       1   0     1   2        0        6           0   \n",
       "3        4  2011-01-01       1   0     1   3        0        6           0   \n",
       "4        5  2011-01-01       1   0     1   4        0        6           0   \n",
       "\n",
       "   weathersit  temp   atemp   hum  windspeed  casual  registered  cnt  \n",
       "0           1  0.24  0.2879  0.81        0.0       3          13   16  \n",
       "1           1  0.22  0.2727  0.80        0.0       8          32   40  \n",
       "2           1  0.22  0.2727  0.80        0.0       5          27   32  \n",
       "3           1  0.24  0.2879  0.75        0.0       3          10   13  \n",
       "4           1  0.24  0.2879  0.75        0.0       0           1    1  "
      ]
     },
     "execution_count": 3,
     "metadata": {},
     "output_type": "execute_result"
    }
   ],
   "source": [
    "pd.set_option('display.max_columns', 500)\n",
    "bike_rentals = pd.read_csv('bike_rental_hour.csv')\n",
    "bike_rentals.head()"
   ]
  },
  {
   "cell_type": "code",
   "execution_count": 4,
   "metadata": {},
   "outputs": [
    {
     "data": {
      "text/plain": [
       "0"
      ]
     },
     "execution_count": 4,
     "metadata": {},
     "output_type": "execute_result"
    }
   ],
   "source": [
    "bike_rentals.isnull().sum().sum()"
   ]
  },
  {
   "cell_type": "code",
   "execution_count": 5,
   "metadata": {},
   "outputs": [
    {
     "data": {
      "text/plain": [
       "instant         int64\n",
       "dteday         object\n",
       "season          int64\n",
       "yr              int64\n",
       "mnth            int64\n",
       "hr              int64\n",
       "holiday         int64\n",
       "weekday         int64\n",
       "workingday      int64\n",
       "weathersit      int64\n",
       "temp          float64\n",
       "atemp         float64\n",
       "hum           float64\n",
       "windspeed     float64\n",
       "casual          int64\n",
       "registered      int64\n",
       "cnt             int64\n",
       "dtype: object"
      ]
     },
     "execution_count": 5,
     "metadata": {},
     "output_type": "execute_result"
    }
   ],
   "source": [
    "bike_rentals.dtypes"
   ]
  },
  {
   "cell_type": "markdown",
   "metadata": {},
   "source": [
    "Our goal will be to predict the bike count column `cnt` using all the other feature columns (other than `casual` and `registered` since these sum up to `cnt`). Other than the `dteday` column, the remaining features are all numerical, so they can be easily used as inputs to regression algorithms."
   ]
  },
  {
   "cell_type": "code",
   "execution_count": 6,
   "metadata": {},
   "outputs": [
    {
     "data": {
      "image/png": "[encoded data removed]",
      "text/plain": [
       "<Figure size 432x288 with 1 Axes>"
      ]
     },
     "metadata": {},
     "output_type": "display_data"
    }
   ],
   "source": [
    "# Histogram of the `cnt` column\n",
    "import matplotlib.style as style\n",
    "style.use('ggplot')\n",
    "counts = bike_rentals['cnt']\n",
    "plt.hist(counts)\n",
    "plt.title('Hourly Bike Rental Distribution')\n",
    "plt.show()"
   ]
  },
  {
   "cell_type": "markdown",
   "metadata": {},
   "source": [
    "A histogram of bike rentals on an hourly basis indicates that on most hours, less than 200 bikes are rented. The rental frequency distribution decays exponentially as more bikes are rented within an hour, which makes sense intuitively for a business."
   ]
  },
  {
   "cell_type": "code",
   "execution_count": 7,
   "metadata": {},
   "outputs": [
    {
     "data": {
      "text/plain": [
       "cnt           1.000000\n",
       "registered    0.972151\n",
       "casual        0.694564\n",
       "temp          0.404772\n",
       "atemp         0.400929\n",
       "hr            0.394071\n",
       "instant       0.278379\n",
       "yr            0.250495\n",
       "season        0.178056\n",
       "mnth          0.120638\n",
       "windspeed     0.093234\n",
       "workingday    0.030284\n",
       "weekday       0.026900\n",
       "holiday      -0.030927\n",
       "weathersit   -0.142426\n",
       "hum          -0.322911\n",
       "Name: cnt, dtype: float64"
      ]
     },
     "execution_count": 7,
     "metadata": {},
     "output_type": "execute_result"
    }
   ],
   "source": [
    "# Correlation of features to the 'cnt' target column\n",
    "bike_rentals.corr()['cnt'].sort_values(ascending=False)"
   ]
  },
  {
   "cell_type": "markdown",
   "metadata": {},
   "source": [
    "Generating correlation coefficients to the target variable helps identify which features have a strong linear relationship to the target `cnt` column."
   ]
  },
  {
   "cell_type": "markdown",
   "metadata": {},
   "source": [
    "## Feature Engineering\n",
    "Generating new feature can improve the prediction performance of machine learning models in certain cases. An area for improvement would be the `hr` feature where each hour of the day would be considered different by a prediction model. In order to help our models learn, we can reduce the granularity of this feature by only considering four different times in a day corresponding to morning, afternoon, evening, and night."
   ]
  },
  {
   "cell_type": "code",
   "execution_count": 8,
   "metadata": {},
   "outputs": [],
   "source": [
    "# Function to assign a time of day corresponidng to an hour\n",
    "def assign_label(hr):\n",
    "    if hr>=6 and hr<12:\n",
    "        return 1 #morning\n",
    "    elif hr>=12 and hr<18:\n",
    "        return 2 #afternoon\n",
    "    elif hr>=18 and hr<24:\n",
    "        return 3 #evening\n",
    "    elif hr>=0 and hr<6:\n",
    "        return 4 #night\n",
    "    \n",
    "# apply function to dataframe\n",
    "bike_rentals['time_label'] = bike_rentals['hr'].apply(assign_label)"
   ]
  },
  {
   "cell_type": "markdown",
   "metadata": {},
   "source": [
    "We can also construct a feature indicating when the feeling temperature `atemp` is comfortable. A comfortable temperature will be denoted as in the range of 13 degrees to 29 degrees Celcius."
   ]
  },
  {
   "cell_type": "code",
   "execution_count": 9,
   "metadata": {},
   "outputs": [
    {
     "data": {
      "image/png": "[encoded data removed]",
      "text/plain": [
       "<Figure size 432x288 with 1 Axes>"
      ]
     },
     "metadata": {},
     "output_type": "display_data"
    }
   ],
   "source": [
    "bike_rentals['atemp'].plot.hist()\n",
    "plt.title('Normalized Feeling Temperature Distribution')\n",
    "plt.show()"
   ]
  },
  {
   "cell_type": "code",
   "execution_count": 10,
   "metadata": {},
   "outputs": [
    {
     "data": {
      "text/plain": [
       "0    8779\n",
       "1    8600\n",
       "Name: comfort_temp, dtype: int64"
      ]
     },
     "execution_count": 10,
     "metadata": {},
     "output_type": "execute_result"
    }
   ],
   "source": [
    "tComfort_min = 13\n",
    "tComfort_max = 29\n",
    "\n",
    "# normalized with (t-t_min)/(t_max-t_min) from dataset documentation\n",
    "t_min = -16\n",
    "t_max = 50\n",
    "\n",
    "# Normalize comfort range\n",
    "tComfort_min_norm = (tComfort_min-t_min)/(t_max-t_min)\n",
    "tComfort_max_norm = (tComfort_max-t_min)/(t_max-t_min)\n",
    "\n",
    "bike_rentals['comfort_temp'] = (bike_rentals['atemp'] >= tComfort_min_norm) & (bike_rentals['atemp'] <= tComfort_max_norm)\n",
    "bike_rentals['comfort_temp'] = bike_rentals['comfort_temp'].astype('int')\n",
    "bike_rentals['comfort_temp'].value_counts()"
   ]
  },
  {
   "cell_type": "markdown",
   "metadata": {},
   "source": [
    "It may be possible that people have more time on weekends, thus increasing the number of potential bike rentals. Because of this, we can encode a new binary `weekend` feature which indicates if the day falls on a weekend or not."
   ]
  },
  {
   "cell_type": "code",
   "execution_count": 11,
   "metadata": {},
   "outputs": [
    {
     "data": {
      "text/plain": [
       "0    12365\n",
       "1     5014\n",
       "Name: weekend, dtype: int64"
      ]
     },
     "execution_count": 11,
     "metadata": {},
     "output_type": "execute_result"
    }
   ],
   "source": [
    "## Indicate if weekday is Saturday (0) or Sunday (6)\n",
    "bike_rentals['weekend'] = (bike_rentals['weekday'] == 0) | (bike_rentals['weekday'] == 6)\n",
    "bike_rentals['weekend'] = bike_rentals['weekend'].astype('int')\n",
    "bike_rentals['weekend'].value_counts()"
   ]
  },
  {
   "cell_type": "code",
   "execution_count": 12,
   "metadata": {},
   "outputs": [
    {
     "data": {
      "text/html": [
       "<div>\n",
       "<style scoped>\n",
       "    .dataframe tbody tr th:only-of-type {\n",
       "        vertical-align: middle;\n",
       "    }\n",
       "\n",
       "    .dataframe tbody tr th {\n",
       "        vertical-align: top;\n",
       "    }\n",
       "\n",
       "    .dataframe thead th {\n",
       "        text-align: right;\n",
       "    }\n",
       "</style>\n",
       "<table border=\"1\" class=\"dataframe\">\n",
       "  <thead>\n",
       "    <tr style=\"text-align: right;\">\n",
       "      <th></th>\n",
       "      <th>instant</th>\n",
       "      <th>dteday</th>\n",
       "      <th>season</th>\n",
       "      <th>yr</th>\n",
       "      <th>mnth</th>\n",
       "      <th>hr</th>\n",
       "      <th>holiday</th>\n",
       "      <th>weekday</th>\n",
       "      <th>workingday</th>\n",
       "      <th>weathersit</th>\n",
       "      <th>temp</th>\n",
       "      <th>atemp</th>\n",
       "      <th>hum</th>\n",
       "      <th>windspeed</th>\n",
       "      <th>casual</th>\n",
       "      <th>registered</th>\n",
       "      <th>cnt</th>\n",
       "      <th>time_label</th>\n",
       "      <th>comfort_temp</th>\n",
       "      <th>weekend</th>\n",
       "    </tr>\n",
       "  </thead>\n",
       "  <tbody>\n",
       "    <tr>\n",
       "      <th>0</th>\n",
       "      <td>1</td>\n",
       "      <td>2011-01-01</td>\n",
       "      <td>1</td>\n",
       "      <td>0</td>\n",
       "      <td>1</td>\n",
       "      <td>0</td>\n",
       "      <td>0</td>\n",
       "      <td>6</td>\n",
       "      <td>0</td>\n",
       "      <td>1</td>\n",
       "      <td>0.24</td>\n",
       "      <td>0.2879</td>\n",
       "      <td>0.81</td>\n",
       "      <td>0.0</td>\n",
       "      <td>3</td>\n",
       "      <td>13</td>\n",
       "      <td>16</td>\n",
       "      <td>4</td>\n",
       "      <td>0</td>\n",
       "      <td>1</td>\n",
       "    </tr>\n",
       "    <tr>\n",
       "      <th>1</th>\n",
       "      <td>2</td>\n",
       "      <td>2011-01-01</td>\n",
       "      <td>1</td>\n",
       "      <td>0</td>\n",
       "      <td>1</td>\n",
       "      <td>1</td>\n",
       "      <td>0</td>\n",
       "      <td>6</td>\n",
       "      <td>0</td>\n",
       "      <td>1</td>\n",
       "      <td>0.22</td>\n",
       "      <td>0.2727</td>\n",
       "      <td>0.80</td>\n",
       "      <td>0.0</td>\n",
       "      <td>8</td>\n",
       "      <td>32</td>\n",
       "      <td>40</td>\n",
       "      <td>4</td>\n",
       "      <td>0</td>\n",
       "      <td>1</td>\n",
       "    </tr>\n",
       "    <tr>\n",
       "      <th>2</th>\n",
       "      <td>3</td>\n",
       "      <td>2011-01-01</td>\n",
       "      <td>1</td>\n",
       "      <td>0</td>\n",
       "      <td>1</td>\n",
       "      <td>2</td>\n",
       "      <td>0</td>\n",
       "      <td>6</td>\n",
       "      <td>0</td>\n",
       "      <td>1</td>\n",
       "      <td>0.22</td>\n",
       "      <td>0.2727</td>\n",
       "      <td>0.80</td>\n",
       "      <td>0.0</td>\n",
       "      <td>5</td>\n",
       "      <td>27</td>\n",
       "      <td>32</td>\n",
       "      <td>4</td>\n",
       "      <td>0</td>\n",
       "      <td>1</td>\n",
       "    </tr>\n",
       "    <tr>\n",
       "      <th>3</th>\n",
       "      <td>4</td>\n",
       "      <td>2011-01-01</td>\n",
       "      <td>1</td>\n",
       "      <td>0</td>\n",
       "      <td>1</td>\n",
       "      <td>3</td>\n",
       "      <td>0</td>\n",
       "      <td>6</td>\n",
       "      <td>0</td>\n",
       "      <td>1</td>\n",
       "      <td>0.24</td>\n",
       "      <td>0.2879</td>\n",
       "      <td>0.75</td>\n",
       "      <td>0.0</td>\n",
       "      <td>3</td>\n",
       "      <td>10</td>\n",
       "      <td>13</td>\n",
       "      <td>4</td>\n",
       "      <td>0</td>\n",
       "      <td>1</td>\n",
       "    </tr>\n",
       "    <tr>\n",
       "      <th>4</th>\n",
       "      <td>5</td>\n",
       "      <td>2011-01-01</td>\n",
       "      <td>1</td>\n",
       "      <td>0</td>\n",
       "      <td>1</td>\n",
       "      <td>4</td>\n",
       "      <td>0</td>\n",
       "      <td>6</td>\n",
       "      <td>0</td>\n",
       "      <td>1</td>\n",
       "      <td>0.24</td>\n",
       "      <td>0.2879</td>\n",
       "      <td>0.75</td>\n",
       "      <td>0.0</td>\n",
       "      <td>0</td>\n",
       "      <td>1</td>\n",
       "      <td>1</td>\n",
       "      <td>4</td>\n",
       "      <td>0</td>\n",
       "      <td>1</td>\n",
       "    </tr>\n",
       "  </tbody>\n",
       "</table>\n",
       "</div>"
      ],
      "text/plain": [
       "   instant      dteday  season  yr  mnth  hr  holiday  weekday  workingday  \\\n",
       "0        1  2011-01-01       1   0     1   0        0        6           0   \n",
       "1        2  2011-01-01       1   0     1   1        0        6           0   \n",
       "2        3  2011-01-01       1   0     1   2        0        6           0   \n",
       "3        4  2011-01-01       1   0     1   3        0        6           0   \n",
       "4        5  2011-01-01       1   0     1   4        0        6           0   \n",
       "\n",
       "   weathersit  temp   atemp   hum  windspeed  casual  registered  cnt  \\\n",
       "0           1  0.24  0.2879  0.81        0.0       3          13   16   \n",
       "1           1  0.22  0.2727  0.80        0.0       8          32   40   \n",
       "2           1  0.22  0.2727  0.80        0.0       5          27   32   \n",
       "3           1  0.24  0.2879  0.75        0.0       3          10   13   \n",
       "4           1  0.24  0.2879  0.75        0.0       0           1    1   \n",
       "\n",
       "   time_label  comfort_temp  weekend  \n",
       "0           4             0        1  \n",
       "1           4             0        1  \n",
       "2           4             0        1  \n",
       "3           4             0        1  \n",
       "4           4             0        1  "
      ]
     },
     "execution_count": 12,
     "metadata": {},
     "output_type": "execute_result"
    }
   ],
   "source": [
    "bike_rentals.head()"
   ]
  },
  {
   "cell_type": "markdown",
   "metadata": {},
   "source": [
    "## Train & Test Split\n",
    "Before training our models, we will split the dataset into a training set and a testing set. By training only on the train set, and evaluating the performance of our algorithm on both splits, we can identify how the algorithm performs on unseen data, and if the algorithm is overfitting."
   ]
  },
  {
   "cell_type": "code",
   "execution_count": 13,
   "metadata": {},
   "outputs": [],
   "source": [
    "# 80% train, 20% test\n",
    "train = bike_rentals.sample(frac=0.8, random_state=1)\n",
    "test = bike_rentals.loc[~bike_rentals.index.isin(train.index)]"
   ]
  },
  {
   "cell_type": "markdown",
   "metadata": {},
   "source": [
    "As mentioned previously, lets drop `casual`, `registered`, and `dteday` feature columns. At first we considered only features with a correlation coefficient greater than 0.03 to avoid injecting noise into our model. Further testing of different models made it clear that the features have a non-linear relationship with the target variable since tree-based models drastically outperformed linear regression models based on RMSE. Based on this reasoning, all features were kept by setting the cutoff to 0."
   ]
  },
  {
   "cell_type": "code",
   "execution_count": 14,
   "metadata": {},
   "outputs": [
    {
     "data": {
      "text/plain": [
       "temp            0.404772\n",
       "atemp           0.400929\n",
       "hr              0.394071\n",
       "time_label      0.378318\n",
       "hum             0.322911\n",
       "instant         0.278379\n",
       "yr              0.250495\n",
       "comfort_temp    0.179455\n",
       "season          0.178056\n",
       "weathersit      0.142426\n",
       "mnth            0.120638\n",
       "windspeed       0.093234\n",
       "holiday         0.030927\n",
       "workingday      0.030284\n",
       "weekday         0.026900\n",
       "weekend         0.019699\n",
       "Name: cnt, dtype: float64"
      ]
     },
     "execution_count": 14,
     "metadata": {},
     "output_type": "execute_result"
    }
   ],
   "source": [
    "feature_corr = bike_rentals.corr()['cnt'].abs().sort_values(ascending=False)\n",
    "feature_corr = feature_corr.drop(['cnt', 'casual','registered'])\n",
    "feature_corr "
   ]
  },
  {
   "cell_type": "code",
   "execution_count": 15,
   "metadata": {},
   "outputs": [],
   "source": [
    "## Set the correlation cutoff for features\n",
    "#corr_cutoff = 0.03\n",
    "corr_cutoff = 0 #Better models\n",
    "feature_corr = feature_corr[feature_corr > corr_cutoff]"
   ]
  },
  {
   "cell_type": "code",
   "execution_count": 16,
   "metadata": {},
   "outputs": [],
   "source": [
    "# Filter kept features\n",
    "kept_features = feature_corr.index\n",
    "\n",
    "X_train = train[kept_features]\n",
    "X_test = test[kept_features]\n",
    "y_train = train['cnt']\n",
    "y_test = test['cnt']"
   ]
  },
  {
   "cell_type": "markdown",
   "metadata": {},
   "source": [
    "We will be using a root mean squared error (RMSE) to evaluate the prediction performance of our regression algorithms since it works well on continuous numeric target data. It also provides some interpretability (on the same scale) as to how much error the model's predictions usually have with regards to number of bikes.\n",
    "\n",
    "## Baseline Model Selection\n",
    "In order to select a baseline regression model, we will test the prediction performance of the following supervised learning algorithms:\n",
    "- Linear Regression\n",
    "- Decision Tree\n",
    "- Random Forest\n",
    "- Gradient Boosted Trees"
   ]
  },
  {
   "cell_type": "markdown",
   "metadata": {},
   "source": [
    "### Linear Regression"
   ]
  },
  {
   "cell_type": "code",
   "execution_count": 17,
   "metadata": {},
   "outputs": [
    {
     "name": "stdout",
     "output_type": "stream",
     "text": [
      "Train RMSE: 132.39\n",
      "Test RMSE: 130.13\n"
     ]
    }
   ],
   "source": [
    "from sklearn.metrics import mean_squared_error\n",
    "from sklearn.linear_model import LinearRegression\n",
    "\n",
    "lr = LinearRegression()\n",
    "lr.fit(X_train, y_train)\n",
    "\n",
    "# Predict on Train/Test\n",
    "train_pred = lr.predict(X_train)\n",
    "test_pred = lr.predict(X_test)\n",
    "\n",
    "# Train/Test error\n",
    "train_err_lr = mean_squared_error(y_train, train_pred) ** 0.5\n",
    "test_err_lr = mean_squared_error(y_test, test_pred) ** 0.5\n",
    "\n",
    "print('Train RMSE:', round(train_err_lr,2))\n",
    "print('Test RMSE:', round(test_err_lr,2))"
   ]
  },
  {
   "cell_type": "markdown",
   "metadata": {},
   "source": [
    "### Decision Tree"
   ]
  },
  {
   "cell_type": "code",
   "execution_count": 18,
   "metadata": {},
   "outputs": [
    {
     "name": "stdout",
     "output_type": "stream",
     "text": [
      "Train RMSE: 40.14\n",
      "Test RMSE: 51.44\n"
     ]
    }
   ],
   "source": [
    "from sklearn.tree import DecisionTreeRegressor\n",
    "\n",
    "dt = DecisionTreeRegressor(min_samples_leaf=10)\n",
    "dt.fit(X_train, y_train)\n",
    "\n",
    "# Predict on Train/Test\n",
    "train_pred = dt.predict(X_train)\n",
    "test_pred = dt.predict(X_test)\n",
    "\n",
    "# Train/Test error\n",
    "train_err_dt = mean_squared_error(y_train, train_pred) ** 0.5\n",
    "test_err_dt = mean_squared_error(y_test, test_pred) ** 0.5\n",
    "\n",
    "print('Train RMSE:', round(train_err_dt,2))\n",
    "print('Test RMSE:', round(test_err_dt,2))"
   ]
  },
  {
   "cell_type": "markdown",
   "metadata": {},
   "source": [
    "The decision tree is significantly more accurate than the linear regression model. To improve upon this, we can try ensembled tree models to see if we can reduce our errors further via bagging or boosting."
   ]
  },
  {
   "cell_type": "markdown",
   "metadata": {},
   "source": [
    "### Random Forest"
   ]
  },
  {
   "cell_type": "code",
   "execution_count": 19,
   "metadata": {},
   "outputs": [
    {
     "name": "stdout",
     "output_type": "stream",
     "text": [
      "Train RMSE: 15.16\n",
      "Test RMSE: 42.85\n"
     ]
    }
   ],
   "source": [
    "from sklearn.ensemble import RandomForestRegressor\n",
    "\n",
    "rf = RandomForestRegressor(n_estimators=100, min_samples_leaf=1, max_features='auto', random_state=1)\n",
    "rf.fit(X_train, y_train)\n",
    "\n",
    "# Predict on Train/Test\n",
    "train_pred = rf.predict(X_train)\n",
    "test_pred = rf.predict(X_test)\n",
    "\n",
    "# Train/Test error\n",
    "train_err_rf = mean_squared_error(y_train, train_pred) ** 0.5\n",
    "test_err_rf = mean_squared_error(y_test, test_pred) ** 0.5\n",
    "\n",
    "print('Train RMSE:', round(train_err_rf,2))\n",
    "print('Test RMSE:', round(test_err_rf,2))"
   ]
  },
  {
   "cell_type": "markdown",
   "metadata": {},
   "source": [
    "Based on the results presented, the random forest model seems to perform the best on both seen and unseen data. None of the models are seen to significantly overfit the training data based on their relative train and test RMSEs. \n",
    "\n",
    "The random forest model likely performs the best due to being able to capture non-linear relationships within the variables, unlike a linear regression model. Also, it is an ensembled tree model, so it is capable of negating the effects of overfitting a single decision tree model would be susceptible to."
   ]
  },
  {
   "cell_type": "markdown",
   "metadata": {},
   "source": [
    "### Gradient Boosted Trees"
   ]
  },
  {
   "cell_type": "code",
   "execution_count": 20,
   "metadata": {},
   "outputs": [
    {
     "name": "stdout",
     "output_type": "stream",
     "text": [
      "Train RMSE: 22.39\n",
      "Test RMSE: 39.39\n"
     ]
    }
   ],
   "source": [
    "from sklearn.ensemble import GradientBoostingRegressor\n",
    "\n",
    "gbt = GradientBoostingRegressor(learning_rate=0.1, n_estimators=100, max_depth=8, min_samples_leaf=4, random_state=1)\n",
    "gbt.fit(X_train, y_train)\n",
    "\n",
    "# Predict on Train/Test\n",
    "train_pred = gbt.predict(X_train)\n",
    "test_pred = gbt.predict(X_test)\n",
    "\n",
    "# Train/Test error\n",
    "train_err_gbt = mean_squared_error(y_train, train_pred) ** 0.5\n",
    "test_err_gbt = mean_squared_error(y_test, test_pred) ** 0.5\n",
    "\n",
    "print('Train RMSE:', round(train_err_gbt,2))\n",
    "print('Test RMSE:', round(test_err_gbt,2))"
   ]
  },
  {
   "cell_type": "code",
   "execution_count": 21,
   "metadata": {},
   "outputs": [
    {
     "data": {
      "image/png": "[encoded data removed]",
      "text/plain": [
       "<Figure size 432x288 with 1 Axes>"
      ]
     },
     "metadata": {},
     "output_type": "display_data"
    }
   ],
   "source": [
    "## Visulalize test results\n",
    "train_rmses = [train_err_lr, train_err_dt, train_err_rf, train_err_gbt]\n",
    "test_rmses = [test_err_lr, test_err_dt, test_err_rf, test_err_gbt]\n",
    "index = ['Linear Regression', 'Decision Tree', 'Random Forest', 'Gradient Boosted Trees']\n",
    "df_rmse = pd.DataFrame({'train': train_rmses,\n",
    "                   'test': test_rmses}, index=index)\n",
    "ax = df_rmse.plot.barh(title='Baseline Algorithm Prediction Error')\n",
    "ax.set_xlabel('RMSE')\n",
    "plt.show()"
   ]
  },
  {
   "cell_type": "markdown",
   "metadata": {},
   "source": [
    "The gradient boosted trees (GBT) model seems to perform the best on both seen and unseen data. None of the models are seen to significantly overfit the training data based on their relative train and test RMSEs. \n",
    "\n",
    "GBT likely performs the best due to being able to capture non-linear relationships within the variables, unlike a linear regression model. Also, it is an ensembled tree model, so it is capable of negating the effects of overfitting a single fully grown decision tree model would be susceptible to.\n",
    "\n",
    "## Model Optimization\n",
    "Based on the above results of the tests, the GBT model will be tuned to see if there exists a better set of hyperparameters which will improve the model's prediction performance."
   ]
  },
  {
   "cell_type": "code",
   "execution_count": 22,
   "metadata": {
    "scrolled": true
   },
   "outputs": [
    {
     "name": "stdout",
     "output_type": "stream",
     "text": [
      "Time to tune (sec):  1024.0003151893616\n"
     ]
    }
   ],
   "source": [
    "## Hyperparameter tuning\n",
    "from sklearn.model_selection import GridSearchCV\n",
    "import time\n",
    "from joblib import dump, load\n",
    "\n",
    "parameter_grid = {\n",
    "    'learning_rate': np.arange(0.05, 0.2, 0.05),\n",
    "    'max_depth': np.arange(6, 11, 1),\n",
    "    'min_samples_leaf': np.arange(2, 6, 1),\n",
    "    'subsample': [0.8, 1]\n",
    "}\n",
    "\n",
    "fileToLoadorSave = 'gbt_tuned_cv.joblib'\n",
    "\n",
    "try:\n",
    "    gbt_cv = load(fileToLoadorSave) # Load tuned model if already exists in pwd\n",
    "except FileNotFoundError:\n",
    "    # Run GridSearch\n",
    "    gbt_tune = GradientBoostingRegressor(n_estimators=200, random_state=1)\n",
    "    #gbt_cv = GridSearchCV(gbt_tune, parameter_grid, n_jobs=-1, cv=4)\n",
    "    gbt_cv = GridSearchCV(gbt_tune, parameter_grid, n_jobs=-1, cv=4, scoring='neg_root_mean_squared_error')\n",
    "\n",
    "    t0 = time.time()\n",
    "    gbt_cv.fit(X_train, y_train)\n",
    "    t1 = time.time()\n",
    "    totalTime = t1-t0\n",
    "    print('Time to tune (sec): ', totalTime)\n",
    "    dump(gbt_cv, fileToLoadorSave) # Save tuned model to file to avoid rerunning grid search"
   ]
  },
  {
   "cell_type": "code",
   "execution_count": 27,
   "metadata": {},
   "outputs": [
    {
     "name": "stdout",
     "output_type": "stream",
     "text": [
      "Best-found parameters:  {'learning_rate': 0.1, 'max_depth': 8, 'min_samples_leaf': 2, 'subsample': 0.8}\n",
      "Mean 4-fold RMSE test score on the best GBT model:  36.16\n"
     ]
    },
    {
     "data": {
      "text/html": [
       "<div>\n",
       "<style scoped>\n",
       "    .dataframe tbody tr th:only-of-type {\n",
       "        vertical-align: middle;\n",
       "    }\n",
       "\n",
       "    .dataframe tbody tr th {\n",
       "        vertical-align: top;\n",
       "    }\n",
       "\n",
       "    .dataframe thead th {\n",
       "        text-align: right;\n",
       "    }\n",
       "</style>\n",
       "<table border=\"1\" class=\"dataframe\">\n",
       "  <thead>\n",
       "    <tr style=\"text-align: right;\">\n",
       "      <th></th>\n",
       "      <th>mean_fit_time</th>\n",
       "      <th>std_fit_time</th>\n",
       "      <th>mean_score_time</th>\n",
       "      <th>std_score_time</th>\n",
       "      <th>param_learning_rate</th>\n",
       "      <th>param_max_depth</th>\n",
       "      <th>param_min_samples_leaf</th>\n",
       "      <th>param_subsample</th>\n",
       "      <th>params</th>\n",
       "      <th>split0_test_score</th>\n",
       "      <th>split1_test_score</th>\n",
       "      <th>split2_test_score</th>\n",
       "      <th>split3_test_score</th>\n",
       "      <th>mean_test_score</th>\n",
       "      <th>std_test_score</th>\n",
       "      <th>rank_test_score</th>\n",
       "    </tr>\n",
       "  </thead>\n",
       "  <tbody>\n",
       "    <tr>\n",
       "      <th>56</th>\n",
       "      <td>5.384931</td>\n",
       "      <td>0.046546</td>\n",
       "      <td>0.035228</td>\n",
       "      <td>0.001639</td>\n",
       "      <td>0.1</td>\n",
       "      <td>8</td>\n",
       "      <td>2</td>\n",
       "      <td>0.8</td>\n",
       "      <td>{'learning_rate': 0.1, 'max_depth': 8, 'min_sa...</td>\n",
       "      <td>-36.702173</td>\n",
       "      <td>-36.199448</td>\n",
       "      <td>-37.209874</td>\n",
       "      <td>-34.531650</td>\n",
       "      <td>-36.160786</td>\n",
       "      <td>1.006139</td>\n",
       "      <td>1</td>\n",
       "    </tr>\n",
       "    <tr>\n",
       "      <th>58</th>\n",
       "      <td>5.433901</td>\n",
       "      <td>0.020582</td>\n",
       "      <td>0.035477</td>\n",
       "      <td>0.000865</td>\n",
       "      <td>0.1</td>\n",
       "      <td>8</td>\n",
       "      <td>3</td>\n",
       "      <td>0.8</td>\n",
       "      <td>{'learning_rate': 0.1, 'max_depth': 8, 'min_sa...</td>\n",
       "      <td>-36.681000</td>\n",
       "      <td>-36.405793</td>\n",
       "      <td>-37.001852</td>\n",
       "      <td>-34.583405</td>\n",
       "      <td>-36.168012</td>\n",
       "      <td>0.938878</td>\n",
       "      <td>2</td>\n",
       "    </tr>\n",
       "    <tr>\n",
       "      <th>60</th>\n",
       "      <td>5.677750</td>\n",
       "      <td>0.029234</td>\n",
       "      <td>0.041225</td>\n",
       "      <td>0.007080</td>\n",
       "      <td>0.1</td>\n",
       "      <td>8</td>\n",
       "      <td>4</td>\n",
       "      <td>0.8</td>\n",
       "      <td>{'learning_rate': 0.1, 'max_depth': 8, 'min_sa...</td>\n",
       "      <td>-36.880096</td>\n",
       "      <td>-36.086558</td>\n",
       "      <td>-37.214679</td>\n",
       "      <td>-34.594296</td>\n",
       "      <td>-36.193907</td>\n",
       "      <td>1.010335</td>\n",
       "      <td>3</td>\n",
       "    </tr>\n",
       "    <tr>\n",
       "      <th>50</th>\n",
       "      <td>4.899481</td>\n",
       "      <td>0.010588</td>\n",
       "      <td>0.029231</td>\n",
       "      <td>0.000433</td>\n",
       "      <td>0.1</td>\n",
       "      <td>7</td>\n",
       "      <td>3</td>\n",
       "      <td>0.8</td>\n",
       "      <td>{'learning_rate': 0.1, 'max_depth': 7, 'min_sa...</td>\n",
       "      <td>-36.595970</td>\n",
       "      <td>-36.708260</td>\n",
       "      <td>-37.527678</td>\n",
       "      <td>-34.345786</td>\n",
       "      <td>-36.294423</td>\n",
       "      <td>1.181133</td>\n",
       "      <td>4</td>\n",
       "    </tr>\n",
       "    <tr>\n",
       "      <th>99</th>\n",
       "      <td>6.693624</td>\n",
       "      <td>0.019779</td>\n",
       "      <td>0.032730</td>\n",
       "      <td>0.004203</td>\n",
       "      <td>0.15</td>\n",
       "      <td>8</td>\n",
       "      <td>3</td>\n",
       "      <td>1</td>\n",
       "      <td>{'learning_rate': 0.15000000000000002, 'max_de...</td>\n",
       "      <td>-37.042852</td>\n",
       "      <td>-36.543228</td>\n",
       "      <td>-37.330062</td>\n",
       "      <td>-34.320530</td>\n",
       "      <td>-36.309168</td>\n",
       "      <td>1.182157</td>\n",
       "      <td>5</td>\n",
       "    </tr>\n",
       "  </tbody>\n",
       "</table>\n",
       "</div>"
      ],
      "text/plain": [
       "    mean_fit_time  std_fit_time  mean_score_time  std_score_time  \\\n",
       "56       5.384931      0.046546         0.035228        0.001639   \n",
       "58       5.433901      0.020582         0.035477        0.000865   \n",
       "60       5.677750      0.029234         0.041225        0.007080   \n",
       "50       4.899481      0.010588         0.029231        0.000433   \n",
       "99       6.693624      0.019779         0.032730        0.004203   \n",
       "\n",
       "   param_learning_rate param_max_depth param_min_samples_leaf param_subsample  \\\n",
       "56                 0.1               8                      2             0.8   \n",
       "58                 0.1               8                      3             0.8   \n",
       "60                 0.1               8                      4             0.8   \n",
       "50                 0.1               7                      3             0.8   \n",
       "99                0.15               8                      3               1   \n",
       "\n",
       "                                               params  split0_test_score  \\\n",
       "56  {'learning_rate': 0.1, 'max_depth': 8, 'min_sa...         -36.702173   \n",
       "58  {'learning_rate': 0.1, 'max_depth': 8, 'min_sa...         -36.681000   \n",
       "60  {'learning_rate': 0.1, 'max_depth': 8, 'min_sa...         -36.880096   \n",
       "50  {'learning_rate': 0.1, 'max_depth': 7, 'min_sa...         -36.595970   \n",
       "99  {'learning_rate': 0.15000000000000002, 'max_de...         -37.042852   \n",
       "\n",
       "    split1_test_score  split2_test_score  split3_test_score  mean_test_score  \\\n",
       "56         -36.199448         -37.209874         -34.531650       -36.160786   \n",
       "58         -36.405793         -37.001852         -34.583405       -36.168012   \n",
       "60         -36.086558         -37.214679         -34.594296       -36.193907   \n",
       "50         -36.708260         -37.527678         -34.345786       -36.294423   \n",
       "99         -36.543228         -37.330062         -34.320530       -36.309168   \n",
       "\n",
       "    std_test_score  rank_test_score  \n",
       "56        1.006139                1  \n",
       "58        0.938878                2  \n",
       "60        1.010335                3  \n",
       "50        1.181133                4  \n",
       "99        1.182157                5  "
      ]
     },
     "execution_count": 27,
     "metadata": {},
     "output_type": "execute_result"
    }
   ],
   "source": [
    "# Cross Validation results\n",
    "print('Best-found parameters: ', gbt_cv.best_params_)\n",
    "print('Mean 4-fold RMSE test score on the best GBT model: ', round(abs(gbt_cv.best_score_),2))\n",
    "cvResults = pd.DataFrame(gbt_cv.cv_results_).sort_values('mean_test_score', ascending=False)\n",
    "cvResults.head() # Display the five best found models"
   ]
  },
  {
   "cell_type": "markdown",
   "metadata": {},
   "source": [
    "The best found gradient boosted tree model yields a **mean RMSE of 36.16** (std dev = 1.01) on the 4-fold validation splits, meaning that the model generalizes quite well to unseen data. The low standard deviation observed (relative to mean RMSE) is a good indicator that the model is not overfitting.\n",
    "\n",
    "Now we will use the best-found hyperparameters to train a model using all of our training data. Its prediction error will then be evaluated."
   ]
  },
  {
   "cell_type": "code",
   "execution_count": 28,
   "metadata": {},
   "outputs": [
    {
     "name": "stdout",
     "output_type": "stream",
     "text": [
      "Train RMSE: 14.68\n",
      "Test RMSE: 36.98\n"
     ]
    }
   ],
   "source": [
    "# Use best-found gbt model to fit on all training data\n",
    "gbt_best = gbt_cv.best_estimator_\n",
    "gbt_best.fit(X_train, y_train)\n",
    "\n",
    "# Predict on Train/Test\n",
    "train_pred = gbt_best.predict(X_train)\n",
    "test_pred = gbt_best.predict(X_test)\n",
    "\n",
    "# Train/Test error (RMSE)\n",
    "train_err_gbtBest = mean_squared_error(y_train, train_pred) ** 0.5\n",
    "test_err_gbtBest = mean_squared_error(y_test, test_pred) ** 0.5\n",
    "\n",
    "print('Train RMSE:', round(train_err_gbtBest,2))\n",
    "print('Test RMSE:', round(test_err_gbtBest,2))"
   ]
  },
  {
   "cell_type": "code",
   "execution_count": 29,
   "metadata": {},
   "outputs": [
    {
     "data": {
      "image/png": "[encoded data removed]",
      "text/plain": [
       "<Figure size 432x288 with 1 Axes>"
      ]
     },
     "metadata": {},
     "output_type": "display_data"
    }
   ],
   "source": [
    "## Visulalize RMSE of GBT models\n",
    "train_rmses = [train_err_gbt, train_err_gbtBest]\n",
    "test_rmses = [test_err_gbt, test_err_gbtBest]\n",
    "index = ['Baseline GBT', 'Tuned GBT']\n",
    "df_rmse_gbt = pd.DataFrame({'train': train_rmses,\n",
    "                            'test': test_rmses}, index=index)\n",
    "ax = df_rmse_gbt.plot.barh(title='Baseline vs. Tuned GBT')\n",
    "ax.set_xlabel('RMSE')\n",
    "plt.show()"
   ]
  },
  {
   "cell_type": "code",
   "execution_count": 30,
   "metadata": {},
   "outputs": [
    {
     "data": {
      "text/plain": [
       "count    17379.000000\n",
       "mean       189.463088\n",
       "std        181.387599\n",
       "min          1.000000\n",
       "25%         40.000000\n",
       "50%        142.000000\n",
       "75%        281.000000\n",
       "max        977.000000\n",
       "Name: cnt, dtype: float64"
      ]
     },
     "execution_count": 30,
     "metadata": {},
     "output_type": "execute_result"
    }
   ],
   "source": [
    "bike_rentals['cnt'].describe()"
   ]
  },
  {
   "cell_type": "markdown",
   "metadata": {},
   "source": [
    "As a result of hyperparameter optimization, a reduction in both train and test error was achieved. The tuned GBT now has a **test RMSE of 36.98**, which is approximately a 6% decrease in error compared to the baseline GBT model. The test RMSE is also within one standard deviation (1.01) of the 4-fold validation RMSEs, which is another strong indicator that the model is not overfitting to training data and generalizes well to unseen data. Considering that the simplest model which always predicts the mean of all samples' targets has a RMSE of 181.39 (standard deviation), a ~80% overall reduction in RMSE was achieved.\n",
    "\n",
    "## Conclusion\n",
    "Using the dataset consisting of Capital's bike rentals over time, a regression model capable of predicting the number of bike rentals at any given hour of the year was developed. The performance of different baseline models were compared against each other, with the best regressor selected and tuned to improve its prediction accuracy.\n",
    "\n",
    "Major findings were as follows:\n",
    "- Non-linear, tree-based models drastically outperformed linear models in this dataset.\n",
    "- Gradient Boosted Trees (GBT) performed the best out of all baseline regression models tested\n",
    "- The tuned GBT model yielded the lowest RMSE of 36.98 on the testing split (~80% decrease compared to the simplest possible model)"
   ]
  }
 ],
 "metadata": {
  "kernelspec": {
   "display_name": "Python 3",
   "language": "python",
   "name": "python3"
  },
  "language_info": {
   "codemirror_mode": {
    "name": "ipython",
    "version": 3
   },
   "file_extension": ".py",
   "mimetype": "text/x-python",
   "name": "python",
   "nbconvert_exporter": "python",
   "pygments_lexer": "ipython3",
   "version": "3.7.3"
  }
 },
 "nbformat": 4,
 "nbformat_minor": 1
}
